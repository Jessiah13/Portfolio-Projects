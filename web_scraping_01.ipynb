{
 "cells": [
  {
   "attachments": {},
   "cell_type": "markdown",
   "metadata": {},
   "source": [
    "# Project 01 - Web Scraping with Python - Part 1 #\n",
    "\n",
    "In this project, we're going to scrap data off Amazon for 1 item.\n",
    "That data will be imported to a csv file over time. "
   ]
  },
  {
   "attachments": {},
   "cell_type": "markdown",
   "metadata": {},
   "source": [
    "### Importing Libraries ###"
   ]
  },
  {
   "cell_type": "code",
   "execution_count": 5,
   "metadata": {},
   "outputs": [],
   "source": [
    "import pandas as pd\n",
    "import requests\n",
    "import csv\n",
    "import smtplib\n",
    "\n",
    "import time\n",
    "import datetime\n",
    "from bs4 import BeautifulSoup as bs\n",
    "import urllib.request, urllib.error, urllib.parse"
   ]
  },
  {
   "attachments": {},
   "cell_type": "markdown",
   "metadata": {},
   "source": [
    "### Connecting to Website and Pulling the Data ###"
   ]
  },
  {
   "cell_type": "code",
   "execution_count": 6,
   "metadata": {},
   "outputs": [
    {
     "name": "stdout",
     "output_type": "stream",
     "text": [
      "Kanto SP32PLW 32\" Bookshelf Speaker Stands | White | Pair\n",
      "199.99\n"
     ]
    }
   ],
   "source": [
    "url ='https://www.amazon.ca/dp/B07K4VSLBS/ref=twister_B07K4W1KVW?_encoding=UTF8&th=1'\n",
    "\n",
    "#connecting to the website\n",
    "#Linnk for headers: https://httpbin.org/get \n",
    "# Copy the User-agent line\n",
    "headers = {\n",
    "    'content-type': 'text/html;charset=UTF-8',\n",
    "    'Accept-Encoding': 'gzip, deflate, sdch',\n",
    "    'Accept-Language': 'en-US,en;q=0.8',\n",
    "    'User-Agent': 'Mozilla/5.0 (X11; Linux x86_64) AppleWebKit/537.36 (KHTML, like Gecko) Chrome/56.0.2924.87 Safari/537.36',\n",
    "    'Accept': 'text/html,application/xhtml+xml,application/xml;q=0.9,image/webp,*/*;q=0.8',\n",
    "    }\n",
    "\n",
    "#p pulling in the data and cleaning it up\n",
    "page = requests.get(url, headers=headers)\n",
    "\n",
    "soup1 = bs(page.content, \"html.parser\")\n",
    "soup2 = bs(soup1.prettify(), \"html.parser\")\n",
    "\n",
    "# locating the name and price of the item, also tidying up by removing the white space.\n",
    "title = soup2.find(id='productTitle').get_text().strip()\n",
    "price = soup2.select_one('span.a-price span').get_text().strip()[1:]\n",
    "\n",
    "\n",
    "print(title)\n",
    "print(price)"
   ]
  },
  {
   "attachments": {},
   "cell_type": "markdown",
   "metadata": {},
   "source": [
    "### Creating time stamp and CSV file with headers and data in file ###"
   ]
  },
  {
   "cell_type": "code",
   "execution_count": 7,
   "metadata": {},
   "outputs": [
    {
     "name": "stdout",
     "output_type": "stream",
     "text": [
      "2023-01-02\n"
     ]
    }
   ],
   "source": [
    "# creating a timestamp for the output to track the data when collected\n",
    "today = datetime.date.today()\n",
    "print(today)\n",
    "\n",
    "# creating headers for file\n",
    "headers = ['Title', 'Price', 'Date']\n",
    "data = [title, price, today]\n",
    "\n",
    "# creating CSV file \n",
    "# Run this code only on the initial run, after the first run comment it out as it will remove all the data in the CSV created.\n",
    "#with open('Project_01_Web_Scraping.csv', 'w',newline=\"\", encoding=\"UTF8\") as f:\n",
    "    #writer = csv.writer(f)\n",
    "    #writer.writerow(headers)\n",
    "    #writer.writerow(data)"
   ]
  },
  {
   "cell_type": "code",
   "execution_count": 14,
   "metadata": {},
   "outputs": [
    {
     "name": "stdout",
     "output_type": "stream",
     "text": [
      "                                               Title   Price        Date\n",
      "0  Kanto SP32PLW 32\" Bookshelf Speaker Stands | W...  199.99  2022-12-30\n"
     ]
    }
   ],
   "source": [
    "dframe = pd.read_csv(r\"C:\\Users\\Jessiah\\Project_01_Web_Scraping.csv\")\n",
    "print (dframe)"
   ]
  },
  {
   "attachments": {},
   "cell_type": "markdown",
   "metadata": {},
   "source": [
    "### Appending data to the CSV ###"
   ]
  },
  {
   "cell_type": "code",
   "execution_count": 16,
   "metadata": {},
   "outputs": [],
   "source": [
    "# adding/appending the file with new collected data.\n",
    "with open('Project_01_Web_Scraping.csv', 'a+',  newline='', encoding='UTF8') as f:\n",
    "    writer = csv.writer(f)\n",
    "    writer.writerow(data)"
   ]
  },
  {
   "attachments": {},
   "cell_type": "markdown",
   "metadata": {},
   "source": [
    "### Combining all of the above code into one function ###"
   ]
  },
  {
   "cell_type": "code",
   "execution_count": 22,
   "metadata": {},
   "outputs": [],
   "source": [
    "# combinig all the above into one function.\n",
    "def check_price():\n",
    "    url = 'https://www.amazon.ca/dp/B07K4VSLBS/ref=twister_B07K4W1KVW?_encoding=UTF8&th=1'\n",
    "\n",
    "    headers = {\n",
    "    'content-type': 'text/html;charset=UTF-8',\n",
    "    'Accept-Encoding': 'gzip, deflate, sdch',\n",
    "    'Accept-Language': 'en-US,en;q=0.8',\n",
    "    'User-Agent': 'Mozilla/5.0 (X11; Linux x86_64) AppleWebKit/537.36 (KHTML, like Gecko) Chrome/56.0.2924.87 Safari/537.36',\n",
    "    'Accept': 'text/html,application/xhtml+xml,application/xml;q=0.9,image/webp,*/*;q=0.8',\n",
    "    }\n",
    "\n",
    "    page = requests.get(url, headers=headers)\n",
    "\n",
    "    soup1 = bs(page.content, \"html.parser\")\n",
    "    soup2 = bs(soup1.prettify(), \"html.parser\")\n",
    "\n",
    "    title = soup2.find(id='productTitle').get_text().strip()\n",
    "    price = soup2.select_one('span.a-price span').get_text().strip()[1:]\n",
    "\n",
    "    import datetime\n",
    "    today = datetime.date.today()\n",
    "\n",
    "    import csv\n",
    "    headers = ['Title', 'Price', 'Date']\n",
    "    data = [title, price, today]\n",
    "\n",
    "    with open('Project_01_Web_Scraping.csv', 'a+',  newline='', encoding='UTF8') as f:\n",
    "        writer = csv.writer(f)\n",
    "        writer.writerow(data)"
   ]
  },
  {
   "attachments": {},
   "cell_type": "markdown",
   "metadata": {},
   "source": [
    "# runs check_price after a set time "
   ]
  },
  {
   "cell_type": "code",
   "execution_count": 23,
   "metadata": {},
   "outputs": [],
   "source": [
    "# runs check_price after a set time \n",
    "while (True):\n",
    "    check_price()\n",
    "    time.sleep(86_400)\n"
   ]
  },
  {
   "cell_type": "code",
   "execution_count": 4,
   "metadata": {},
   "outputs": [
    {
     "name": "stdout",
     "output_type": "stream",
     "text": [
      "                                               Title   Price        Date\n",
      "0  Kanto SP32PLW 32\" Bookshelf Speaker Stands | W...  199.99  2022-12-30\n"
     ]
    }
   ],
   "source": [
    "import pandas as pd\n",
    "\n",
    "df = pd.read_csv(r'C:\\Users\\Jessiah\\Project_01_Web_Scraping.csv')\n",
    "\n",
    "print(df)"
   ]
  },
  {
   "cell_type": "code",
   "execution_count": null,
   "metadata": {},
   "outputs": [],
   "source": []
  }
 ],
 "metadata": {
  "kernelspec": {
   "display_name": "Python 3",
   "language": "python",
   "name": "python3"
  },
  "language_info": {
   "codemirror_mode": {
    "name": "ipython",
    "version": 3
   },
   "file_extension": ".py",
   "mimetype": "text/x-python",
   "name": "python",
   "nbconvert_exporter": "python",
   "pygments_lexer": "ipython3",
   "version": "3.10.9"
  },
  "orig_nbformat": 4,
  "vscode": {
   "interpreter": {
    "hash": "597c298baddc4fed1f799432d0c74c50aedef5845e57e6cb8b7bf8dba211ae64"
   }
  }
 },
 "nbformat": 4,
 "nbformat_minor": 2
}
